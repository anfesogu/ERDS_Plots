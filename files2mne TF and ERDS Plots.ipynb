{
 "cells": [
  {
   "cell_type": "markdown",
   "metadata": {},
   "source": [
    "#### Example how to read the data in MNE-python \n"
   ]
  },
  {
   "cell_type": "code",
   "execution_count": 1,
   "metadata": {},
   "outputs": [],
   "source": [
    "# import mne\n",
    "# import numpy as np\n",
    "# import matplotlib as plt\n",
    "\n",
    "\n",
    "\n",
    "\n",
    "# import matplotlib.pyplot as plt\n",
    "# from mne.time_frequency import tfr_multitaper\n",
    "\n",
    "# from utils_dataset2mne import data2mne\n",
    "\n"
   ]
  },
  {
   "cell_type": "code",
   "execution_count": 2,
   "metadata": {},
   "outputs": [],
   "source": [
    "import mne\n",
    "import numpy as np\n",
    "import matplotlib.pyplot as plt\n",
    "import asrpy\n",
    "\n",
    "from utils_dataset2mne import data2mne\n",
    "from utils_dataset2mne import create_name\n",
    "from utils_dataset2mne import apply_ASR\n",
    "from utils_dataset2mne import plot_TF_M\n",
    "from utils_dataset2mne import plot_TF_M_stat\n",
    "from utils_dataset2mne import plot_ERDs\n",
    "\n",
    "mne.set_log_level(verbose='WARNING')\n",
    "\n",
    "%matplotlib qt"
   ]
  },
  {
   "cell_type": "markdown",
   "metadata": {},
   "source": [
    "#### Creating Epochs"
   ]
  },
  {
   "cell_type": "code",
   "execution_count": 3,
   "metadata": {},
   "outputs": [
    {
     "name": "stdout",
     "output_type": "stream",
     "text": [
      "246 events found\n",
      "Event IDs: [ 1  2  3  4  5  6  7  8  9 10]\n"
     ]
    },
    {
     "data": {
      "text/html": [
       "<table class=\"table table-hover table-striped table-sm table-responsive small\">\n",
       "    <tr>\n",
       "        <th>Number of events</th>\n",
       "        <td>200</td>\n",
       "    </tr>\n",
       "    <tr>\n",
       "        <th>Events</th>\n",
       "        \n",
       "        <td>MI_Left: 100<br/>MI_Right: 100</td>\n",
       "        \n",
       "    </tr>\n",
       "    <tr>\n",
       "        <th>Time range</th>\n",
       "        <td>-1.949 – 4.949 sec</td>\n",
       "    </tr>\n",
       "    <tr>\n",
       "        <th>Baseline</th>\n",
       "        <td>off</td>\n",
       "    </tr>\n",
       "</table>"
      ],
      "text/plain": [
       "<Epochs |  200 events (all good), -1.94922 - 4.94922 sec, baseline off, ~345.1 MB, data loaded,\n",
       " 'MI_Right': 100\n",
       " 'MI_Left': 100>"
      ]
     },
     "execution_count": 3,
     "metadata": {},
     "output_type": "execute_result"
    }
   ],
   "source": [
    "subject = 41\n",
    "fname_mat = create_name(subject,'EEG_Data')\n",
    "\n",
    "# Convert .mat data to a raw object of MNE-python\n",
    "raw = data2mne(fname_mat, scale=1e-8)\n",
    "\n",
    "# Event ID definition\n",
    "event_id = {'Blink':1,'Up/Down':2,'Left/Right':3,'Jaw':4,'HeadMov':5, 'Resting':6, 'ME_Right':7, 'ME_Left':8, 'MI_Right':9, 'MI_Left':10}\n",
    "\n",
    "# Read events from Stimuli channel\n",
    "events = mne.find_events(raw, stim_channel='Stim', verbose=True,initial_event=True)\n",
    "\n",
    "# Plot Raw Data\n",
    "# raw.plot(events=events,event_id=event_id)\n",
    "\n",
    "# Only imaginary events\n",
    "event_id_MI = {'MI_Right':9, 'MI_Left':10}\n",
    "events_MI = events[events[:,2] > 8]\n",
    "\n",
    "# Change the custom montage to standard positions for better visualization\n",
    "biosemi64_montage = mne.channels.make_standard_montage('biosemi64')\n",
    "raw.set_montage(biosemi64_montage)\n",
    "\n",
    "# Create Epochs\n",
    "epochs = mne.Epochs(raw, events_MI, event_id_MI, tmin=-1.95, tmax=4.95, picks=('eeg'), baseline=None, preload=True)\n",
    "epochs.filter(0.5,None)\n",
    "\n",
    "\n",
    "# Common Average Reference as a projection\n",
    "epochs.set_eeg_reference(ref_channels='average',projection=True)\n",
    "\n",
    "# Plot Raw Data only with imaginary events\n",
    "# raw.plot(events=events_MI,event_id=event_id_M)\n",
    "\n",
    "# Electrode position 2D\n",
    "# raw.plot_sensors(kind='topomap',ch_type='eeg', show_names=True, sphere='eeglab')\n"
   ]
  },
  {
   "cell_type": "code",
   "execution_count": 4,
   "metadata": {},
   "outputs": [],
   "source": [
    "# # Plot Raw Data\n",
    "# raw.plot(events=events,event_id=event_id)"
   ]
  },
  {
   "cell_type": "markdown",
   "metadata": {},
   "source": [
    "#### Applying ASR - Step by Step"
   ]
  },
  {
   "cell_type": "code",
   "execution_count": 5,
   "metadata": {},
   "outputs": [],
   "source": [
    "# # Creating ASR object\n",
    "# asr = asrpy.ASR(sfreq=raw.info[\"sfreq\"])\n",
    "\n",
    "# # Filter the data\n",
    "# filtered = raw.load_data().copy().filter(0.5,None)\n",
    "\n",
    "# # Fit the ASR method with RS dataca\n",
    "# asr.fit(filtered.copy().crop(tmin=51,tmax=115))\n",
    "\n",
    "# # Applying the method to filtered data\n",
    "# cleaned = asr.transform(filtered)\n",
    "\n",
    "# # Save clean data\n",
    "# fname_ASR = create_name(subject,'Derivates',type='ASR')\n",
    "# cleaned.save(fname_ASR)\n",
    "\n"
   ]
  },
  {
   "cell_type": "markdown",
   "metadata": {},
   "source": [
    "#### Applying ASR - function"
   ]
  },
  {
   "cell_type": "code",
   "execution_count": 6,
   "metadata": {},
   "outputs": [],
   "source": [
    "# # Applying ASR to the raw data (no filtering before)\n",
    "# # tmin and tmax define the period to use for calibration\n",
    "# # the output is a raw object of MNE-python with the cleaned data\n",
    "# cleaned = apply_ASR(raw,tmin=51,tmax=115)\n",
    "# fname_ASR = create_name(subject,'Derivates',type='ASR')\n",
    "# cleaned.save(fname_ASR)"
   ]
  },
  {
   "cell_type": "markdown",
   "metadata": {},
   "source": [
    "#### Create Epochs Cleaned by ASR"
   ]
  },
  {
   "cell_type": "code",
   "execution_count": 7,
   "metadata": {},
   "outputs": [
    {
     "name": "stderr",
     "output_type": "stream",
     "text": [
      "C:\\Users\\andresfs\\AppData\\Local\\Temp\\ipykernel_14284\\1107146597.py:3: RuntimeWarning: This filename (Derivates\\s41_ASR.fif) does not conform to MNE naming conventions. All raw files should end with raw.fif, raw_sss.fif, raw_tsss.fif, _meg.fif, _eeg.fif, _ieeg.fif, raw.fif.gz, raw_sss.fif.gz, raw_tsss.fif.gz, _meg.fif.gz, _eeg.fif.gz or _ieeg.fif.gz\n",
      "  cleaned = mne.io.read_raw_fif(fname_ASR)\n"
     ]
    },
    {
     "data": {
      "text/html": [
       "<table class=\"table table-hover table-striped table-sm table-responsive small\">\n",
       "    <tr>\n",
       "        <th>Number of events</th>\n",
       "        <td>200</td>\n",
       "    </tr>\n",
       "    <tr>\n",
       "        <th>Events</th>\n",
       "        \n",
       "        <td>MI_Left: 100<br/>MI_Right: 100</td>\n",
       "        \n",
       "    </tr>\n",
       "    <tr>\n",
       "        <th>Time range</th>\n",
       "        <td>-1.949 – 4.949 sec</td>\n",
       "    </tr>\n",
       "    <tr>\n",
       "        <th>Baseline</th>\n",
       "        <td>off</td>\n",
       "    </tr>\n",
       "</table>"
      ],
      "text/plain": [
       "<Epochs |  200 events (all good), -1.94922 - 4.94922 sec, baseline off, ~345.1 MB, data loaded,\n",
       " 'MI_Right': 100\n",
       " 'MI_Left': 100>"
      ]
     },
     "execution_count": 7,
     "metadata": {},
     "output_type": "execute_result"
    }
   ],
   "source": [
    "# Read previously cleaned data by ASR\n",
    "fname_ASR = create_name(subject,'Derivates',type='ASR')\n",
    "cleaned = mne.io.read_raw_fif(fname_ASR)\n",
    "\n",
    "# Create cleaned Epochs\n",
    "epochs_ASR = mne.Epochs(cleaned, events_MI, event_id_MI, tmin=-1.95, tmax=4.95, picks=('eeg'), baseline=None, preload=True)\n",
    "\n",
    "# Common Average Reference as a projection\n",
    "epochs_ASR.set_eeg_reference(ref_channels='average',projection=True)"
   ]
  },
  {
   "cell_type": "code",
   "execution_count": 8,
   "metadata": {},
   "outputs": [],
   "source": [
    "# # Plot epochs as an image an compare \n",
    "# epochs_ASR.plot_image(picks=\"eeg\", combine=\"mean\",title='Cleaned ASR')\n",
    "# epochs.plot_image(picks=\"eeg\", combine=\"mean\")"
   ]
  },
  {
   "cell_type": "markdown",
   "metadata": {},
   "source": [
    "#### Time-Frequency Analysis"
   ]
  },
  {
   "cell_type": "code",
   "execution_count": 9,
   "metadata": {},
   "outputs": [],
   "source": [
    "# Prepare Epochs for TF\n",
    "channels = ['C3','C4']\n",
    "epochs_TF_raw = epochs.copy().apply_proj().pick_channels(channels)\n",
    "epochs_TF_ASR = epochs_ASR.copy().apply_proj().pick_channels(channels)\n"
   ]
  },
  {
   "cell_type": "code",
   "execution_count": 10,
   "metadata": {},
   "outputs": [],
   "source": [
    "# Compute TF Maps - Wavelet\n",
    "freqs = np.arange(2, 35.5, 0.5)\n",
    "n_cycles = freqs / 2.0  # different number of cycle per frequency\n",
    "TF_raw_wav = mne.time_frequency.tfr_morlet(epochs_TF_raw['MI_Left','MI_Right'], freqs=freqs, n_cycles=n_cycles, use_fft=True, return_itc=False, decim=3, n_jobs=4, average=False)\n",
    "TF_ASR_wav = mne.time_frequency.tfr_morlet(epochs_TF_ASR['MI_Left','MI_Right'], freqs=freqs, n_cycles=n_cycles, use_fft=True, return_itc=False, decim=3, n_jobs=4, average=False)"
   ]
  },
  {
   "cell_type": "code",
   "execution_count": 11,
   "metadata": {},
   "outputs": [],
   "source": [
    "# Compute TF Maps - Multitaper\n",
    "TF_raw_mtaper = mne.time_frequency.tfr_multitaper(epochs_TF_raw['MI_Left','MI_Right'], freqs=freqs, n_cycles=n_cycles, use_fft=True, return_itc=False, decim=3, n_jobs=4, average=False)\n",
    "TF_ASR_mtaper = mne.time_frequency.tfr_multitaper(epochs_TF_ASR['MI_Left','MI_Right'], freqs=freqs, n_cycles=n_cycles, use_fft=True, return_itc=False, decim=3, n_jobs=4, average=False)"
   ]
  },
  {
   "cell_type": "code",
   "execution_count": 12,
   "metadata": {},
   "outputs": [],
   "source": [
    "# Plot TF Maps - Wavelet\n",
    "event_ids = ['MI_Right','MI_Left'] # events \n",
    "kwargs = dict(baseline=(-1,0), mode='percent', vmin=-1.2, vmax=1.2, fmin=None, fmax=None, cmap='jet')\n",
    "plot_TF_M(TF_raw_wav, event_ids, **kwargs, comment='raw - Wavelet - s' + str(subject))\n",
    "#plot_TF_M(TF_ASR_wav, event_ids, **kwargs, comment='ASR - Wavelet - s' + str(subject))\n"
   ]
  },
  {
   "cell_type": "code",
   "execution_count": 13,
   "metadata": {},
   "outputs": [],
   "source": [
    "# Plot TF Maps - Multitaper\n",
    "plot_TF_M(TF_raw_mtaper, event_ids, **kwargs, comment='raw - Multitaper - s' + str(subject))\n",
    "#plot_TF_M(TF_ASR_mtaper, event_ids, **kwargs, comment='ASR - Multitaper - s' + str(subject))\n"
   ]
  },
  {
   "cell_type": "code",
   "execution_count": 14,
   "metadata": {},
   "outputs": [],
   "source": [
    "channels = ['C3','C4']\n",
    "plot_ERDs(TF_raw_mtaper,channels, comment='raw - Multitapers - s' + str(subject))"
   ]
  },
  {
   "cell_type": "code",
   "execution_count": 15,
   "metadata": {},
   "outputs": [],
   "source": [
    "# Plot ERD maps - Multitaper - Statistically significant\n",
    "kwargs = dict(baseline=(-1,0), mode='percent', vmin=-1.2, vmax=1.2, cmap='jet')\n",
    "plot_TF_M_stat(TF_raw_mtaper.copy(), event_ids, **kwargs, comment='raw - Multitaper - s' + str(subject))\n",
    "#plot_TF_M_stat(TF_ASR_mtaper.copy(), event_ids, **kwargs, comment='ASR - Multitaper - s' + str(subject))"
   ]
  },
  {
   "cell_type": "markdown",
   "metadata": {},
   "source": [
    "#### Applying ICA to epochs"
   ]
  },
  {
   "cell_type": "code",
   "execution_count": 16,
   "metadata": {},
   "outputs": [],
   "source": [
    "#Defining ICA\n",
    "# ica = mne.preprocessing.ICA(n_components=40, max_iter=\"auto\", random_state=97)\n",
    "\n",
    "#Fit ICA to the epochs\n",
    "# ica.fit(epochs)"
   ]
  },
  {
   "cell_type": "code",
   "execution_count": 17,
   "metadata": {},
   "outputs": [],
   "source": [
    "# Plot a topography map of the components\n",
    "# ica.plot_components()"
   ]
  },
  {
   "cell_type": "code",
   "execution_count": 18,
   "metadata": {},
   "outputs": [],
   "source": [
    "# Plot the time courses of the source separation (sources in ICA does not mean brain sources)\n",
    "# ica.plot_sources(epochs, show_scrollbars=False)"
   ]
  },
  {
   "cell_type": "code",
   "execution_count": 19,
   "metadata": {},
   "outputs": [],
   "source": [
    "# Plot the properties of particular components\n",
    "### components = [i for i in range(0, 40)]\n",
    "# ica.plot_properties(epochs,[0,1,2,7])"
   ]
  },
  {
   "cell_type": "code",
   "execution_count": 20,
   "metadata": {},
   "outputs": [],
   "source": [
    "# Exclude components 0 and 6\n",
    "# ica.exclude = [0,1,2] # This is decided manuallyt after analyzing the components"
   ]
  },
  {
   "cell_type": "code",
   "execution_count": 21,
   "metadata": {},
   "outputs": [],
   "source": [
    "#Apply ICA to the data\n",
    "# ica.apply(epochs)"
   ]
  }
 ],
 "metadata": {
  "kernelspec": {
   "display_name": "mytimeflux",
   "language": "python",
   "name": "python3"
  },
  "language_info": {
   "codemirror_mode": {
    "name": "ipython",
    "version": 3
   },
   "file_extension": ".py",
   "mimetype": "text/x-python",
   "name": "python",
   "nbconvert_exporter": "python",
   "pygments_lexer": "ipython3",
   "version": "3.10.6"
  }
 },
 "nbformat": 4,
 "nbformat_minor": 2
}
