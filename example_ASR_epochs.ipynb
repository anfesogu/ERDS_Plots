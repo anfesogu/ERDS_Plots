{
 "cells": [
  {
   "cell_type": "code",
   "execution_count": 1,
   "metadata": {},
   "outputs": [],
   "source": [
    "import mne\n",
    "\n",
    "mne.set_log_level(verbose='WARNING')\n",
    "\n",
    "%matplotlib qt"
   ]
  },
  {
   "cell_type": "code",
   "execution_count": 2,
   "metadata": {},
   "outputs": [],
   "source": [
    "def create_name(subject, folder, type='read_mat'):\n",
    "    if type == 'read_mat':\n",
    "        fname = folder + '\\s' + '{:02d}'.format(subject) + '.mat'\n",
    "    else:\n",
    "        fname = folder + '\\s' + '{:02d}'.format(subject) + '_' + type + '.fif'\n",
    "    return fname\n"
   ]
  },
  {
   "cell_type": "code",
   "execution_count": 3,
   "metadata": {},
   "outputs": [
    {
     "name": "stderr",
     "output_type": "stream",
     "text": [
      "C:\\Users\\andresfs\\AppData\\Local\\Temp\\ipykernel_40648\\1142994558.py:4: RuntimeWarning: This filename (Derivates\\s01_ASR.fif) does not conform to MNE naming conventions. All raw files should end with raw.fif, raw_sss.fif, raw_tsss.fif, _meg.fif, _eeg.fif, _ieeg.fif, raw.fif.gz, raw_sss.fif.gz, raw_tsss.fif.gz, _meg.fif.gz, _eeg.fif.gz or _ieeg.fif.gz\n",
      "  cleaned = mne.io.read_raw_fif(fname_ASR)\n"
     ]
    }
   ],
   "source": [
    "subject = 1\n",
    "# Read previously cleaned data by ASR\n",
    "fname_ASR = create_name(subject,'Derivates',type='ASR')\n",
    "cleaned = mne.io.read_raw_fif(fname_ASR)\n",
    "\n"
   ]
  },
  {
   "cell_type": "code",
   "execution_count": 4,
   "metadata": {},
   "outputs": [
    {
     "name": "stdout",
     "output_type": "stream",
     "text": [
      "246 events found\n",
      "Event IDs: [ 1  2  3  4  5  6  7  8  9 10]\n"
     ]
    }
   ],
   "source": [
    "# Event ID definition\n",
    "event_id = {'Blink':1,'Up/Down':2,'Left/Right':3,'Jaw':4,'HeadMov':5, 'Resting':6, 'ME_Right':7, 'ME_Left':8, 'MI_Right':9, 'MI_Left':10}\n",
    "\n",
    "# Read events from Stimuli channel\n",
    "events = mne.find_events(cleaned, stim_channel='Stim', verbose=True,initial_event=True)\n",
    "\n",
    "# Plot Raw Data\n",
    "# raw.plot(events=events,event_id=event_id)\n",
    "\n",
    "# Only imaginary events\n",
    "event_id_MI = {'MI_Right':9, 'MI_Left':10}\n",
    "events_MI = events[events[:,2] > 8]"
   ]
  },
  {
   "cell_type": "code",
   "execution_count": 5,
   "metadata": {},
   "outputs": [
    {
     "data": {
      "text/html": [
       "<table class=\"table table-hover table-striped table-sm table-responsive small\">\n",
       "    <tr>\n",
       "        <th>Number of events</th>\n",
       "        <td>200</td>\n",
       "    </tr>\n",
       "    <tr>\n",
       "        <th>Events</th>\n",
       "        \n",
       "        <td>MI_Left: 100<br/>MI_Right: 100</td>\n",
       "        \n",
       "    </tr>\n",
       "    <tr>\n",
       "        <th>Time range</th>\n",
       "        <td>-1.949 – 4.949 s</td>\n",
       "    </tr>\n",
       "    <tr>\n",
       "        <th>Baseline</th>\n",
       "        <td>off</td>\n",
       "    </tr>\n",
       "</table>"
      ],
      "text/plain": [
       "<Epochs |  200 events (all good), -1.94922 – 4.94922 s, baseline off, ~345.1 MB, data loaded,\n",
       " 'MI_Right': 100\n",
       " 'MI_Left': 100>"
      ]
     },
     "execution_count": 5,
     "metadata": {},
     "output_type": "execute_result"
    }
   ],
   "source": [
    "# Create cleaned Epochs\n",
    "epochs_ASR = mne.Epochs(cleaned, events_MI, event_id_MI, tmin=-1.95, tmax=4.95, picks=('eeg'), baseline=None, preload=True)\n",
    "\n",
    "# Common Average Reference as a projection\n",
    "epochs_ASR.set_eeg_reference(ref_channels='average',projection=True)"
   ]
  },
  {
   "cell_type": "code",
   "execution_count": 6,
   "metadata": {},
   "outputs": [],
   "source": [
    "epochs_MI_Right = epochs_ASR['MI_Right'].copy()\n",
    "epochs_MI_Left = epochs_ASR['MI_Left'].copy()"
   ]
  }
 ],
 "metadata": {
  "kernelspec": {
   "display_name": "mneUp",
   "language": "python",
   "name": "python3"
  },
  "language_info": {
   "codemirror_mode": {
    "name": "ipython",
    "version": 3
   },
   "file_extension": ".py",
   "mimetype": "text/x-python",
   "name": "python",
   "nbconvert_exporter": "python",
   "pygments_lexer": "ipython3",
   "version": "3.10.6"
  }
 },
 "nbformat": 4,
 "nbformat_minor": 2
}
