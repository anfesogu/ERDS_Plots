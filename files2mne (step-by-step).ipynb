{
 "cells": [
  {
   "cell_type": "markdown",
   "metadata": {},
   "source": [
    "#### Example how to read the data in MNE-python \n"
   ]
  },
  {
   "cell_type": "code",
   "execution_count": 1,
   "metadata": {},
   "outputs": [],
   "source": [
    "import mne\n",
    "import numpy as np\n",
    "import matplotlib as plt\n",
    "from scipy.io import loadmat \n",
    "import pandas as pd\n",
    "import seaborn as sns\n",
    "\n",
    "%matplotlib qt\n",
    "mne.set_log_level(\"WARNING\")"
   ]
  },
  {
   "cell_type": "code",
   "execution_count": 2,
   "metadata": {},
   "outputs": [],
   "source": [
    "fname_mat = 'EEG_Data/s41.mat'\n",
    "Data = loadmat(fname_mat)"
   ]
  },
  {
   "cell_type": "code",
   "execution_count": 3,
   "metadata": {},
   "outputs": [],
   "source": [
    "# Motor Execution\n",
    "EEG_ME_Left = Data['eeg']['movement_left'][0][0]\n",
    "EEG_ME_Right = Data['eeg']['movement_right'][0][0]\n",
    "ME_Event = Data['eeg']['movement_event'][0][0]"
   ]
  },
  {
   "cell_type": "code",
   "execution_count": 4,
   "metadata": {},
   "outputs": [],
   "source": [
    "# Motor Imagery\n",
    "EEG_MI_Left = Data['eeg']['imagery_left'][0][0]\n",
    "EEG_MI_Right = Data['eeg']['imagery_right'][0][0]\n",
    "MI_Event = Data['eeg']['imagery_event'][0][0]"
   ]
  },
  {
   "cell_type": "code",
   "execution_count": 5,
   "metadata": {},
   "outputs": [],
   "source": [
    "# Resting State\n",
    "RS = Data['eeg']['rest'][0][0]\n",
    "\n",
    "# Blinking - Noise1\n",
    "Noise1 = Data['eeg']['noise'][0][0][0][0]\n",
    "\n",
    "# eyeball up-down - Noise2\n",
    "Noise2 = Data['eeg']['noise'][0][0][1][0]\n",
    "\n",
    "# eyeball left-right - Noise3\n",
    "Noise3 = Data['eeg']['noise'][0][0][2][0]\n",
    "\n",
    "# head movement - Noise4\n",
    "Noise4 = Data['eeg']['noise'][0][0][3][0]\n",
    "\n",
    "# jaw clenching - Noise5\n",
    "Noise5 = Data['eeg']['noise'][0][0][4][0]"
   ]
  },
  {
   "cell_type": "code",
   "execution_count": 6,
   "metadata": {},
   "outputs": [],
   "source": [
    "#General Info\n",
    "sfreq = Data['eeg']['srate'][0][0][0][0] #Sampling Frequency\n",
    "psenloc = Data['eeg']['psenloc'][0][0] #Sensor location projected to unit sphere\n",
    "senloc = Data['eeg']['senloc'][0][0] #Sensor locations 3D\n",
    "bad_trial_indices_voltage = Data['eeg']['bad_trial_indices'][0][0][0][0][0][0][0] #Bad trials indices voltage\n",
    "bad_trial_indices_mi = Data['eeg']['bad_trial_indices'][0][0][0][0][0][0][1] #Bad trials indices MI\n",
    "names_types = pd.read_excel(r'ch_names&types.xlsx') #Read file with ch names and types\n",
    "ch_types = names_types['ch_types'].tolist() #ch_types\n",
    "ch_names = names_types['ch_names'].tolist() #ch_names\n"
   ]
  },
  {
   "cell_type": "code",
   "execution_count": 7,
   "metadata": {},
   "outputs": [],
   "source": [
    "# Create stimuli channel\n",
    "Noise1_Event = np.zeros((1,Noise1.shape[1]))\n",
    "Noise1_Event[0,0] = 1\n",
    "Noise2_Event = np.zeros((1,Noise2.shape[1]))\n",
    "Noise2_Event[0,0] = 2\n",
    "Noise3_Event = np.zeros((1,Noise3.shape[1]))\n",
    "Noise3_Event[0,0] = 3\n",
    "Noise4_Event = np.zeros((1,Noise4.shape[1]))\n",
    "Noise4_Event[0,0] = 4\n",
    "Noise5_Event = np.zeros((1,Noise5.shape[1]))\n",
    "Noise5_Event[0,0] = 5\n",
    "RS_Event = np.zeros((1,RS.shape[1]))\n",
    "RS_Event[0,0] = 6\n",
    "ME_Event_Rigth = ME_Event * 7\n",
    "ME_Event_Left = ME_Event * 8\n",
    "MI_Event_Rigth = MI_Event * 9\n",
    "MI_Event_Left = MI_Event * 10\n",
    "\n",
    "# Join All Events and create stimuli channels\n",
    "Event_Stimuli = np.concatenate((Noise1_Event, Noise2_Event, Noise3_Event, Noise4_Event, Noise5_Event, RS_Event, ME_Event_Rigth, ME_Event_Left, MI_Event_Rigth, MI_Event_Left), axis=1)\n",
    "#Event_Stimuli = np.concatenate((ME_Event_Rigth, ME_Event_Left, MI_Event_Rigth, MI_Event_Left), axis=1)"
   ]
  },
  {
   "cell_type": "code",
   "execution_count": 8,
   "metadata": {},
   "outputs": [],
   "source": [
    "# Create raw data\n",
    "Chs_Data = np.concatenate((Noise1, Noise2, Noise3, Noise4, Noise5, RS, EEG_ME_Right, EEG_ME_Left, EEG_MI_Right, EEG_MI_Left), axis=1) * 1e-6 #Convert from uV to V\n",
    "#Chs_Data = np.concatenate((EEG_ME_Right, EEG_ME_Left, EEG_MI_Right, EEG_MI_Left), axis=1)"
   ]
  },
  {
   "cell_type": "code",
   "execution_count": 9,
   "metadata": {},
   "outputs": [],
   "source": [
    "# Event ID definition\n",
    "event_id = {'Blink':1,'Up/Down':2,'Left/Right':3,'Jaw':4,'HeadMov':5, 'Resting':6, 'ME_Right':7, 'ME_Left':8, 'MI_Right':9, 'MI_Left':10}\n",
    "#event_id = {'ME_Right':7, 'ME_Left':8, 'MI_Right':9, 'MI_Left':10}"
   ]
  },
  {
   "cell_type": "code",
   "execution_count": 10,
   "metadata": {},
   "outputs": [],
   "source": [
    "# Create Info\n",
    "info = mne.create_info(ch_names, sfreq, ch_types)"
   ]
  },
  {
   "cell_type": "code",
   "execution_count": 11,
   "metadata": {},
   "outputs": [
    {
     "data": {
      "text/html": [
       "<table class=\"table table-hover table-striped table-sm table-responsive small\">\n",
       "    <tr>\n",
       "        <th>Measurement date</th>\n",
       "        \n",
       "        <td>Unknown</td>\n",
       "        \n",
       "    </tr>\n",
       "    <tr>\n",
       "        <th>Experimenter</th>\n",
       "        \n",
       "        <td>Unknown</td>\n",
       "        \n",
       "    </tr>\n",
       "        <th>Participant</th>\n",
       "        \n",
       "        <td>Unknown</td>\n",
       "        \n",
       "    </tr>\n",
       "    <tr>\n",
       "        <th>Digitized points</th>\n",
       "        \n",
       "        <td>67 points</td>\n",
       "        \n",
       "    </tr>\n",
       "    <tr>\n",
       "        <th>Good channels</th>\n",
       "        <td>64 EEG, 4 EMG, 1 Stimulus</td>\n",
       "    </tr>\n",
       "    <tr>\n",
       "        <th>Bad channels</th>\n",
       "        <td>None</td>\n",
       "    </tr>\n",
       "    <tr>\n",
       "        <th>EOG channels</th>\n",
       "        <td>Not available</td>\n",
       "    </tr>\n",
       "    <tr>\n",
       "        <th>ECG channels</th>\n",
       "        <td>Not available</td>\n",
       "    \n",
       "    <tr>\n",
       "        <th>Sampling frequency</th>\n",
       "        <td>512.00 Hz</td>\n",
       "    </tr>\n",
       "    \n",
       "    \n",
       "    <tr>\n",
       "        <th>Highpass</th>\n",
       "        <td>0.00 Hz</td>\n",
       "    </tr>\n",
       "    \n",
       "    \n",
       "    <tr>\n",
       "        <th>Lowpass</th>\n",
       "        <td>256.00 Hz</td>\n",
       "    </tr>\n",
       "    \n",
       "    \n",
       "</table>"
      ],
      "text/plain": [
       "<Info | 8 non-empty values\n",
       " bads: []\n",
       " ch_names: Fp1, AF7, AF3, F1, F3, F5, F7, FT7, FC5, FC3, FC1, C1, C3, C5, ...\n",
       " chs: 64 EEG, 4 EMG, 1 Stimulus\n",
       " custom_ref_applied: False\n",
       " dig: 67 items (3 Cardinal, 64 EEG)\n",
       " highpass: 0.0 Hz\n",
       " lowpass: 256.0 Hz\n",
       " meas_date: unspecified\n",
       " nchan: 69\n",
       " projs: []\n",
       " sfreq: 512.0 Hz\n",
       ">"
      ]
     },
     "execution_count": 11,
     "metadata": {},
     "output_type": "execute_result"
    }
   ],
   "source": [
    "# Create a montage based on the electrode positions\n",
    "SensorLoc = dict(zip(ch_names[0:64], psenloc.tolist()))\n",
    "montage = mne.channels.make_dig_montage(ch_pos=SensorLoc, coord_frame='head')\n",
    "\n",
    "# Include the montage in the info\n",
    "info.set_montage(montage)"
   ]
  },
  {
   "cell_type": "code",
   "execution_count": 12,
   "metadata": {},
   "outputs": [
    {
     "name": "stdout",
     "output_type": "stream",
     "text": [
      "246 events found\n",
      "Event IDs: [ 1  2  3  4  5  6  7  8  9 10]\n"
     ]
    }
   ],
   "source": [
    "# Create raw object\n",
    "Raw_Data = np.concatenate((Chs_Data,Event_Stimuli), axis=0) \n",
    "raw = mne.io.RawArray(Raw_Data, info)\n",
    "\n",
    "# Read events from Stimuli channel\n",
    "events = mne.find_events(raw, stim_channel='Stim', verbose=True, initial_event=True)"
   ]
  },
  {
   "cell_type": "code",
   "execution_count": 13,
   "metadata": {},
   "outputs": [],
   "source": [
    "# Plot Data\n",
    "# raw.plot(events=events,event_id=event_id, lowpass=45,highpass=0.5)"
   ]
  },
  {
   "cell_type": "code",
   "execution_count": 14,
   "metadata": {},
   "outputs": [],
   "source": [
    "# Only imaginary events\n",
    "event_id_M = {'MI_Right':9, 'MI_Left':10}\n",
    "events_M = events[events[:,2] > 8]\n"
   ]
  },
  {
   "cell_type": "code",
   "execution_count": 15,
   "metadata": {},
   "outputs": [],
   "source": [
    "# Plot Raw Data only with Movements\n",
    "# raw.plot(events=events_M,event_id=event_id_M)"
   ]
  },
  {
   "cell_type": "code",
   "execution_count": 16,
   "metadata": {},
   "outputs": [],
   "source": [
    "# Take a segment and plot the psd of the raw data\n",
    "# raw.copy().crop(500,800).plot_psd(fmax=100)"
   ]
  },
  {
   "cell_type": "code",
   "execution_count": 17,
   "metadata": {},
   "outputs": [
    {
     "data": {
      "text/html": [
       "<table class=\"table table-hover table-striped table-sm table-responsive small\">\n",
       "    <tr>\n",
       "        <th>Measurement date</th>\n",
       "        \n",
       "        <td>Unknown</td>\n",
       "        \n",
       "    </tr>\n",
       "    <tr>\n",
       "        <th>Experimenter</th>\n",
       "        \n",
       "        <td>Unknown</td>\n",
       "        \n",
       "    </tr>\n",
       "        <th>Participant</th>\n",
       "        \n",
       "        <td>Unknown</td>\n",
       "        \n",
       "    </tr>\n",
       "    <tr>\n",
       "        <th>Digitized points</th>\n",
       "        \n",
       "        <td>67 points</td>\n",
       "        \n",
       "    </tr>\n",
       "    <tr>\n",
       "        <th>Good channels</th>\n",
       "        <td>64 EEG, 4 EMG, 1 Stimulus</td>\n",
       "    </tr>\n",
       "    <tr>\n",
       "        <th>Bad channels</th>\n",
       "        <td>None</td>\n",
       "    </tr>\n",
       "    <tr>\n",
       "        <th>EOG channels</th>\n",
       "        <td>Not available</td>\n",
       "    </tr>\n",
       "    <tr>\n",
       "        <th>ECG channels</th>\n",
       "        <td>Not available</td>\n",
       "    \n",
       "    <tr>\n",
       "        <th>Sampling frequency</th>\n",
       "        <td>512.00 Hz</td>\n",
       "    </tr>\n",
       "    \n",
       "    \n",
       "    <tr>\n",
       "        <th>Highpass</th>\n",
       "        <td>0.00 Hz</td>\n",
       "    </tr>\n",
       "    \n",
       "    \n",
       "    <tr>\n",
       "        <th>Lowpass</th>\n",
       "        <td>256.00 Hz</td>\n",
       "    </tr>\n",
       "    \n",
       "    \n",
       "    \n",
       "    <tr>\n",
       "        <th>Duration</th>\n",
       "        <td>00:29:56 (HH:MM:SS)</td>\n",
       "    </tr>\n",
       "</table>"
      ],
      "text/plain": [
       "<RawArray | 69 x 919552 (1796.0 s), ~484.2 MB, data loaded>"
      ]
     },
     "execution_count": 17,
     "metadata": {},
     "output_type": "execute_result"
    }
   ],
   "source": [
    "biosemi64_montage = mne.channels.make_standard_montage('biosemi64')\n",
    "raw.set_montage(biosemi64_montage)"
   ]
  },
  {
   "cell_type": "code",
   "execution_count": 18,
   "metadata": {},
   "outputs": [],
   "source": [
    "# As the 2D plot looks strange, we can modifi the sphere by adding sphere='eeglab'\n",
    "# raw.plot_sensors(kind='topomap',ch_type='eeg', show_names=True, sphere='eeglab')"
   ]
  },
  {
   "cell_type": "code",
   "execution_count": 19,
   "metadata": {},
   "outputs": [],
   "source": [
    "#Lets visualize in 3D to see if they are ok\n",
    "# raw.plot_sensors(kind='3d',ch_type='eeg', show_names=True)"
   ]
  },
  {
   "cell_type": "code",
   "execution_count": 20,
   "metadata": {},
   "outputs": [
    {
     "data": {
      "text/html": [
       "<table class=\"table table-hover table-striped table-sm table-responsive small\">\n",
       "    <tr>\n",
       "        <th>Number of events</th>\n",
       "        <td>200</td>\n",
       "    </tr>\n",
       "    <tr>\n",
       "        <th>Events</th>\n",
       "        \n",
       "        <td>MI_Left: 100<br/>MI_Right: 100</td>\n",
       "        \n",
       "    </tr>\n",
       "    <tr>\n",
       "        <th>Time range</th>\n",
       "        <td>-1.949 – 4.949 sec</td>\n",
       "    </tr>\n",
       "    <tr>\n",
       "        <th>Baseline</th>\n",
       "        <td>off</td>\n",
       "    </tr>\n",
       "</table>"
      ],
      "text/plain": [
       "<Epochs |  200 events (all good), -1.94922 - 4.94922 sec, baseline off, ~345.1 MB, data loaded,\n",
       " 'MI_Right': 100\n",
       " 'MI_Left': 100>"
      ]
     },
     "execution_count": 20,
     "metadata": {},
     "output_type": "execute_result"
    }
   ],
   "source": [
    "# Create Epochs\n",
    "epochs = mne.Epochs(raw, events_M, event_id_M, tmin=-1.95, tmax=4.95, picks=('eeg'), baseline=None, preload=True)\n",
    "epochs.filter(0.5,45)"
   ]
  },
  {
   "cell_type": "code",
   "execution_count": 21,
   "metadata": {},
   "outputs": [],
   "source": [
    "#Plot PSD of the epochs to confirm\n",
    "# epochs.plot_psd(fmax=50)"
   ]
  },
  {
   "cell_type": "markdown",
   "metadata": {},
   "source": [
    "#### Applying ICA to epochs"
   ]
  },
  {
   "cell_type": "code",
   "execution_count": 22,
   "metadata": {},
   "outputs": [],
   "source": [
    "#Defining ICA\n",
    "# ica = mne.preprocessing.ICA(n_components=40, max_iter=\"auto\", random_state=97)\n",
    "\n",
    "#Fit ICA to the epochs\n",
    "# ica.fit(epochs)"
   ]
  },
  {
   "cell_type": "code",
   "execution_count": 23,
   "metadata": {},
   "outputs": [],
   "source": [
    "# Plot a topography map of the components\n",
    "# ica.plot_components()"
   ]
  },
  {
   "cell_type": "code",
   "execution_count": 24,
   "metadata": {},
   "outputs": [],
   "source": [
    "# Plot the time courses of the source separation (sources in ICA does not mean brain sources)\n",
    "# ica.plot_sources(epochs, show_scrollbars=False)"
   ]
  },
  {
   "cell_type": "code",
   "execution_count": 25,
   "metadata": {},
   "outputs": [],
   "source": [
    "# Plot the properties of particular components\n",
    "### components = [i for i in range(0, 40)]\n",
    "# ica.plot_properties(epochs,[0,1,2,7])"
   ]
  },
  {
   "cell_type": "code",
   "execution_count": 26,
   "metadata": {},
   "outputs": [],
   "source": [
    "# Exclude components 0 and 6\n",
    "# ica.exclude = [0,1,2] # This is decided manuallyt after analyzing the components"
   ]
  },
  {
   "cell_type": "code",
   "execution_count": 27,
   "metadata": {},
   "outputs": [],
   "source": [
    "#Apply ICA to the data\n",
    "# ica.apply(epochs)"
   ]
  },
  {
   "cell_type": "code",
   "execution_count": 28,
   "metadata": {},
   "outputs": [
    {
     "data": {
      "text/html": [
       "<table class=\"table table-hover table-striped table-sm table-responsive small\">\n",
       "    <tr>\n",
       "        <th>Number of events</th>\n",
       "        <td>200</td>\n",
       "    </tr>\n",
       "    <tr>\n",
       "        <th>Events</th>\n",
       "        \n",
       "        <td>MI_Left: 100<br/>MI_Right: 100</td>\n",
       "        \n",
       "    </tr>\n",
       "    <tr>\n",
       "        <th>Time range</th>\n",
       "        <td>-1.949 – 4.949 sec</td>\n",
       "    </tr>\n",
       "    <tr>\n",
       "        <th>Baseline</th>\n",
       "        <td>off</td>\n",
       "    </tr>\n",
       "</table>"
      ],
      "text/plain": [
       "<Epochs |  200 events (all good), -1.94922 - 4.94922 sec, baseline off, ~345.1 MB, data loaded,\n",
       " 'MI_Right': 100\n",
       " 'MI_Left': 100>"
      ]
     },
     "execution_count": 28,
     "metadata": {},
     "output_type": "execute_result"
    }
   ],
   "source": [
    "# Common Average Reference\n",
    "epochs.set_eeg_reference(ref_channels='average',projection=True)"
   ]
  },
  {
   "cell_type": "code",
   "execution_count": 29,
   "metadata": {},
   "outputs": [],
   "source": [
    "# Create epoch for TF analysis\n",
    "channels = ['C3','C4']\n",
    "epochs_TF = epochs.copy().apply_proj().pick_channels(channels)"
   ]
  },
  {
   "cell_type": "code",
   "execution_count": 30,
   "metadata": {},
   "outputs": [],
   "source": [
    "# Compute TF Maps - Wavelet\n",
    "freqs = np.arange(2, 35.5, 0.5)\n",
    "n_cycles = freqs / 2.0  # different number of cycle per frequency\n",
    "power_MI = mne.time_frequency.tfr_morlet(epochs_TF['MI_Left','MI_Right'], freqs=freqs, n_cycles=n_cycles, use_fft=True, return_itc=False, decim=3, n_jobs=4, average=False)\n"
   ]
  },
  {
   "cell_type": "code",
   "execution_count": 31,
   "metadata": {},
   "outputs": [],
   "source": [
    "# Plotting TF\n",
    "baseline = (-1,0)\n",
    "mode = 'percent' #‘mean’ | ‘ratio’ | ‘logratio’ | ‘percent’ | ‘zscore’ | ‘zlogratio’\n",
    "vmin=-1.2\n",
    "vmax=1.2\n",
    "#mode = 'mean'\n",
    "#vmin=None\n",
    "#vmax=None\n",
    "fmin = 5 \n",
    "fmax = 28\n",
    "cmap = 'jet'\n",
    "channels = ['C3','C4']\n",
    "for channel in channels:\n",
    "    power_MI['MI_Right'].copy().average().plot(picks=channel, baseline=baseline, mode=mode ,vmin=vmin, vmax=vmax, fmin=fmin, fmax=fmax, cmap=cmap, title=channel+ ' - Right - '+mode)\n",
    "    power_MI['MI_Left'].copy().average().plot(picks=channel, baseline=baseline, mode=mode ,vmin=vmin, vmax=vmax, fmin=fmin, fmax=fmax, cmap=cmap, title=channel+ ' - Left - '+mode)"
   ]
  },
  {
   "cell_type": "code",
   "execution_count": 32,
   "metadata": {},
   "outputs": [],
   "source": [
    "# Compute TF Maps - Multitaper\n",
    "freqs = np.arange(2, 36)\n",
    "#n_cycles = freqs / 2.0  # different number of cycle per frequency\n",
    "power_MI= mne.time_frequency.tfr_multitaper(epochs_TF['MI_Left','MI_Right'], freqs=freqs, n_cycles=freqs, use_fft=True, return_itc=False, decim=3, n_jobs=4, average=False)\n"
   ]
  },
  {
   "cell_type": "code",
   "execution_count": 33,
   "metadata": {},
   "outputs": [],
   "source": [
    "# Plotting TF\n",
    "baseline = (-1,0)\n",
    "mode = 'percent' #‘mean’ | ‘ratio’ | ‘logratio’ | ‘percent’ | ‘zscore’ | ‘zlogratio’\n",
    "vmin=-1.2\n",
    "vmax=1.2\n",
    "#mode = 'mean'\n",
    "#vmin=None\n",
    "#vmax=None\n",
    "fmin = 5 \n",
    "fmax = 28\n",
    "cmap = 'jet'\n",
    "channels = ['C3','C4']\n",
    "for channel in channels:\n",
    "    power_MI['MI_Right'].copy().average().plot(picks=channel, baseline=baseline, mode=mode ,vmin=vmin, vmax=vmax, fmin=fmin, fmax=fmax, cmap=cmap, title=channel+ ' - Right - '+mode)\n",
    "    power_MI['MI_Left'].copy().average().plot(picks=channel, baseline=baseline, mode=mode ,vmin=vmin, vmax=vmax, fmin=fmin, fmax=fmax, cmap=cmap, title=channel+ ' - Left - '+mode)"
   ]
  },
  {
   "cell_type": "code",
   "execution_count": 34,
   "metadata": {},
   "outputs": [],
   "source": [
    "# Statistic ERDs Maps\n",
    "\n",
    "# Import function\n",
    "from mne.stats import permutation_cluster_1samp_test as pcluster_test\n",
    "from matplotlib.colors import TwoSlopeNorm\n",
    "import matplotlib.pyplot as plt\n",
    "\n",
    "# Statistical parameters\n",
    "vmin, vmax = -1, 1.5  # set min and max ERDS values in plot\n",
    "cnorm = TwoSlopeNorm(vmin=vmin, vcenter=0, vmax=vmax)  # min, center & max ERDS\n",
    "\n",
    "kwargs = dict(\n",
    "    n_permutations=100, step_down_p=0.05, seed=1, buffer_size=None, out_type=\"mask\"\n",
    ")  # for cluster test\n"
   ]
  },
  {
   "cell_type": "code",
   "execution_count": 35,
   "metadata": {},
   "outputs": [],
   "source": [
    "# Averaging Time-Frequency Maps\n",
    "tmin, tmax = -1, 4\n",
    "baseline = (-1, 0) \n",
    "tfr = power_MI.copy().crop(tmin, tmax).apply_baseline(baseline, mode=\"percent\")"
   ]
  },
  {
   "cell_type": "code",
   "execution_count": 36,
   "metadata": {},
   "outputs": [],
   "source": [
    "# Perform statistics on Time-Frequency\n",
    "event_ids = ['MI_Right','MI_Left'] # events\n",
    " \n",
    "for event in event_ids:\n",
    "    # select desired epochs for visualization\n",
    "    tfr_ev = tfr[event]\n",
    "    fig, axes = plt.subplots(\n",
    "        1, 3, figsize=(12, 4), gridspec_kw={\"width_ratios\": [10, 10, 1]}\n",
    "    )\n",
    "    fig.canvas.manager.set_window_title(f\"ERDS map ({event})\")\n",
    "    for ch, ax in enumerate(axes[:-1]):  # for each channel\n",
    "        # positive clusters\n",
    "        _, c1, p1, _ = pcluster_test(tfr_ev.data[:, ch], tail=1, **kwargs)\n",
    "        # negative clusters\n",
    "        _, c2, p2, _ = pcluster_test(tfr_ev.data[:, ch], tail=-1, **kwargs)\n",
    "\n",
    "        # note that we keep clusters with p <= 0.05 from the combined clusters\n",
    "        # of two independent tests; in this example, we do not correct for\n",
    "        # these two comparisons\n",
    "        c = np.stack(c1 + c2, axis=2)  # combined clusters\n",
    "        p = np.concatenate((p1, p2))  # combined p-values\n",
    "        mask = c[..., p <= 0.05].any(axis=-1)\n",
    "\n",
    "        # plot TFR (ERDS map with masking)\n",
    "        tfr_ev.average().plot(\n",
    "            [ch],\n",
    "            cmap=\"RdBu\",\n",
    "            cnorm=cnorm,\n",
    "            axes=ax,\n",
    "            colorbar=False,\n",
    "            show=False,\n",
    "            mask=mask,\n",
    "            mask_style=\"mask\",\n",
    "        )\n",
    "\n",
    "        ax.set_title(tfr.ch_names[ch], fontsize=10)\n",
    "        ax.axvline(0, linewidth=1, color=\"black\", linestyle=\":\")  # event\n",
    "        if ch != 0:\n",
    "            ax.set_ylabel(\"\")\n",
    "            ax.set_yticklabels(\"\")\n",
    "    fig.colorbar(axes[0].images[-1], cax=axes[-1]).ax.set_yscale(\"linear\")\n",
    "    fig.suptitle(f\"ERDS ({event})\")\n",
    "    plt.show()"
   ]
  },
  {
   "cell_type": "code",
   "execution_count": 41,
   "metadata": {},
   "outputs": [
    {
     "name": "stdout",
     "output_type": "stream",
     "text": [
      "Converting \"condition\" to \"category\"...\n",
      "Converting \"epoch\" to \"category\"...\n",
      "Converting \"channel\" to \"category\"...\n",
      "Converting \"ch_type\" to \"category\"...\n"
     ]
    }
   ],
   "source": [
    "# Compute and plot ERDS\n",
    "df = tfr.to_data_frame(time_format=None, long_format=True)\n",
    "\n",
    "# Map to frequency bands:\n",
    "freq_bounds = {\"_\": 0, \"delta\": 4, \"theta\": 8, \"alpha\": 13, \"beta\": 30, \"gamma\": 140}\n",
    "df[\"band\"] = pd.cut(df[\"freq\"], list(freq_bounds.values()), labels=list(freq_bounds)[1:])\n",
    "\n",
    "# Filter to retain only relevant frequency bands:\n",
    "freq_bands_of_interest = [\"alpha\"]\n",
    "df = df[df.band.isin(freq_bands_of_interest)]\n",
    "df[\"band\"] = df[\"band\"].cat.remove_unused_categories()\n",
    "\n",
    "# Order channels for plotting:\n",
    "df[\"channel\"] = df[\"channel\"].cat.reorder_categories((\"C3\",\"C4\"), ordered=True)\n",
    "\n",
    "g = sns.FacetGrid(df, row=\"band\", col=\"channel\", margin_titles=True)\n",
    "g.map(sns.lineplot, \"time\", \"value\", \"condition\", n_boot=10)\n",
    "axline_kw = dict(color=\"black\", linestyle=\"dashed\", linewidth=0.5, alpha=0.5)\n",
    "g.map(plt.axhline, y=0, **axline_kw)\n",
    "g.map(plt.axvline, x=0, **axline_kw)\n",
    "#g.set(ylim=(None, 1.5))\n",
    "g.set_axis_labels(\"Time (s)\", \"ERDS (%)\")\n",
    "g.set_titles(col_template=\"{col_name}\", row_template=\"{row_name}\")\n",
    "g.add_legend(ncol=2, loc='upper center')\n",
    "g.fig.subplots_adjust(left=0.1, right=0.9, top=0.9, bottom=0.08)\n"
   ]
  },
  {
   "cell_type": "markdown",
   "metadata": {},
   "source": [
    "###### Coments"
   ]
  },
  {
   "cell_type": "code",
   "execution_count": 38,
   "metadata": {},
   "outputs": [],
   "source": [
    "# Check this for importing the current electrode montage: https://mne.tools/stable/generated/mne.channels.make_dig_montage.html#mne.channels.make_dig_montage\n",
    "#mne.channels.make_dig_montage(ch_pos=senloc, coord_frame='head')\n"
   ]
  }
 ],
 "metadata": {
  "kernelspec": {
   "display_name": "mytimeflux",
   "language": "python",
   "name": "python3"
  },
  "language_info": {
   "codemirror_mode": {
    "name": "ipython",
    "version": 3
   },
   "file_extension": ".py",
   "mimetype": "text/x-python",
   "name": "python",
   "nbconvert_exporter": "python",
   "pygments_lexer": "ipython3",
   "version": "3.10.6"
  }
 },
 "nbformat": 4,
 "nbformat_minor": 2
}
