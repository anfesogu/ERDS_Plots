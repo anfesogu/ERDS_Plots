{
 "cells": [
  {
   "cell_type": "markdown",
   "metadata": {},
   "source": [
    "##### This notebook shows how to generate the ERDS maps and plots based on motor imagery epochs pre-processed with ASR and produce a create a report\n",
    "\n",
    "###### It requires the .fif epochs file output from the \"epochs_ASR\" notebook\n"
   ]
  },
  {
   "cell_type": "code",
   "execution_count": 1,
   "metadata": {},
   "outputs": [
    {
     "name": "stderr",
     "output_type": "stream",
     "text": [
      "c:\\Users\\andresfs\\OneDrive - NTNU\\Research\\Github\\ERDS_Maps\\utils.py:109: SyntaxWarning: invalid escape sequence '\\s'\n",
      "  fname = folder + '\\s' + '{:02d}'.format(subject) + '.mat'\n",
      "c:\\Users\\andresfs\\OneDrive - NTNU\\Research\\Github\\ERDS_Maps\\utils.py:111: SyntaxWarning: invalid escape sequence '\\s'\n",
      "  fname = folder + '\\s' + '{:02d}'.format(subject) + '_' + type + '.fif'\n"
     ]
    }
   ],
   "source": [
    "import mne \n",
    "import numpy as np\n",
    "import matplotlib.pyplot as plt\n",
    "\n",
    "from utils import create_name\n",
    "from utils import plot_TF_M\n",
    "from utils import plot_TF_M_stat\n",
    "from utils import plot_ERDs\n",
    "\n",
    "mne.set_log_level(verbose='WARNING')\n",
    "\n",
    "%matplotlib qt"
   ]
  },
  {
   "cell_type": "code",
   "execution_count": 2,
   "metadata": {},
   "outputs": [],
   "source": [
    "# Read the ASR preprocessed epochs\n",
    "\n",
    "# Define the subject and the folder where the data is located\n",
    "subject = 41\n",
    "data_folder = r\"C:\\Users\\andresfs\\OneDrive - NTNU\\Datasets\\Dataset MI - GigaScience\\Derivates\"\n",
    "\n",
    "# Read the ASR processed epochs\n",
    "fname_mat = create_name(subject,data_folder,type='ASR_epo')\n",
    "epochs_ASR = mne.read_epochs(fname_mat,preload=True)"
   ]
  },
  {
   "cell_type": "code",
   "execution_count": 3,
   "metadata": {},
   "outputs": [
    {
     "name": "stdout",
     "output_type": "stream",
     "text": [
      "\u001b[1;31mType:\u001b[0m        EpochsFIF\n",
      "\u001b[1;31mString form:\u001b[0m\n",
      "<EpochsFIF |  200 events (all good), -1.94922 – 4.94922 s, baseline off, ~345.1 MB, data loaded,\n",
      " 'MI_Right': 100\n",
      " 'MI_Left': 100>\n",
      "\u001b[1;31mLength:\u001b[0m      200\n",
      "\u001b[1;31mFile:\u001b[0m        c:\\users\\andresfs\\.conda\\envs\\mne\\lib\\site-packages\\mne\\epochs.py\n",
      "\u001b[1;31mDocstring:\u001b[0m  \n",
      "Epochs read from disk.\n",
      "\n",
      "Parameters\n",
      "----------\n",
      "\n",
      "fname : path-like | file-like\n",
      "    The epochs to load. If a filename, should end with ``-epo.fif`` or\n",
      "    ``-epo.fif.gz``. If a file-like object, preloading must be used.\n",
      "\n",
      "proj : bool | 'delayed'\n",
      "    Apply SSP projection vectors. If proj is 'delayed' and reject is not\n",
      "    None the single epochs will be projected before the rejection\n",
      "    decision, but used in unprojected state if they are kept.\n",
      "    This way deciding which projection vectors are good can be postponed\n",
      "    to the evoked stage without resulting in lower epoch counts and\n",
      "    without producing results different from early SSP application\n",
      "    given comparable parameters. Note that in this case baselining,\n",
      "    detrending and temporal decimation will be postponed.\n",
      "    If proj is False no projections will be applied which is the\n",
      "    recommended value if SSPs are not used for cleaning the data.\n",
      "preload : bool\n",
      "    If True, read all epochs from disk immediately. If False, epochs will\n",
      "    be read on demand.\n",
      "\n",
      "verbose : bool | str | int | None\n",
      "    Control verbosity of the logging output. If ``None``, use the default\n",
      "    verbosity level. See the :ref:`logging documentation <tut-logging>` and\n",
      "    :func:`mne.verbose` for details. Should only be passed as a keyword\n",
      "    argument.\n",
      "\n",
      "See Also\n",
      "--------\n",
      "mne.Epochs\n",
      "mne.epochs.combine_event_ids\n",
      "mne.Epochs.equalize_event_counts"
     ]
    }
   ],
   "source": [
    "# Check the epochs info\n",
    "epochs_ASR?"
   ]
  },
  {
   "cell_type": "code",
   "execution_count": 4,
   "metadata": {},
   "outputs": [
    {
     "name": "stderr",
     "output_type": "stream",
     "text": [
      "C:\\Users\\andresfs\\AppData\\Local\\Temp\\ipykernel_12612\\1352617266.py:8: RuntimeWarning: joblib not installed. Cannot run in parallel.\n",
      "  TF_ASR_wav = mne.time_frequency.tfr_morlet(epochs_TF_ASR, freqs=freqs, n_cycles=n_cycles, use_fft=True, return_itc=False, decim=3, n_jobs=4, average=False)\n",
      "C:\\Users\\andresfs\\AppData\\Local\\Temp\\ipykernel_12612\\1352617266.py:9: RuntimeWarning: joblib not installed. Cannot run in parallel.\n",
      "  TF_ASR_mtaper = mne.time_frequency.tfr_multitaper(epochs_TF_ASR, freqs=freqs, n_cycles=n_cycles, use_fft=True, return_itc=False, decim=3, n_jobs=4, average=False)\n"
     ]
    }
   ],
   "source": [
    "# Prepare Epochs for TF (Time-frequency) analysis\n",
    "channels = ['C3','C4']\n",
    "epochs_TF_ASR = epochs_ASR.copy().apply_proj().pick_channels(channels)\n",
    "\n",
    "# Compute TF Maps - Wavelet\n",
    "freqs = np.arange(2, 35.5, 0.5)\n",
    "n_cycles = freqs / 2.0  # different number of cycle per frequency\n",
    "TF_ASR_wav = mne.time_frequency.tfr_morlet(epochs_TF_ASR, freqs=freqs, n_cycles=n_cycles, use_fft=True, return_itc=False, decim=3, n_jobs=4, average=False)\n",
    "TF_ASR_mtaper = mne.time_frequency.tfr_multitaper(epochs_TF_ASR, freqs=freqs, n_cycles=n_cycles, use_fft=True, return_itc=False, decim=3, n_jobs=4, average=False)\n"
   ]
  },
  {
   "cell_type": "code",
   "execution_count": 5,
   "metadata": {},
   "outputs": [],
   "source": [
    "# Plot TF Maps\n",
    "event_ids = ['MI_Right','MI_Left'] # events \n",
    "kwargs = dict(baseline=(-1,0), mode='percent', vmin=-1.2, vmax=1.2, fmin=None, fmax=None, cmap='jet')\n",
    "map_ASR_wav = plot_TF_M(TF_ASR_wav, event_ids, **kwargs, comment='- ERDS - ASR - Wavelet - s' + str(subject), reporting=True)\n",
    "map_ASR_mtaper = plot_TF_M(TF_ASR_mtaper, event_ids, **kwargs, comment='- ERDS - ASR - Multitaper - s' + str(subject), reporting=True)\n"
   ]
  },
  {
   "cell_type": "code",
   "execution_count": 10,
   "metadata": {},
   "outputs": [],
   "source": [
    "# Plot ERD per frequency bands\n",
    "ERD_ASR_wav = plot_ERDs(TF_ASR_wav,channels, comment=' - ASR - Wavelet - s' + str(subject), reporting=True)\n",
    "ERD_ASR_mtaper = plot_ERDs(TF_ASR_mtaper,channels, comment=' - ASR - Multitaper - s' + str(subject), reporting=True)\n"
   ]
  },
  {
   "cell_type": "code",
   "execution_count": 9,
   "metadata": {},
   "outputs": [
    {
     "data": {
      "text/plain": [
       "'C:\\\\Users\\\\andresfs\\\\OneDrive - NTNU\\\\Research\\\\Github\\\\ERDS_Maps\\\\Report s41 - ERDS Plots.html'"
      ]
     },
     "execution_count": 9,
     "metadata": {},
     "output_type": "execute_result"
    }
   ],
   "source": [
    "rname = \"Report s\" + str(subject) + \" - ERDS Plots\"\n",
    "report = mne.Report(title=rname)\n",
    "\n",
    "# Add to report\n",
    "for fig in map_ASR_wav:\n",
    "    report.add_figure(fig=fig, title='ERDS', section='TF - ERDs Maps', tags='s'+str(subject))\n",
    "for fig in map_ASR_mtaper:\n",
    "    report.add_figure(fig=fig, title='ERDS', section='TF - ERDs Maps', tags='s'+str(subject))\n",
    "\n",
    "\n",
    "# Add to report\n",
    "ERD_ASR_wav.savefig('temp.png')\n",
    "report.add_image(image='temp.png', title='ERDS mu/alpha & beta', section='TF - ERDs Maps', tags='s'+str(subject))\n",
    "ERD_ASR_mtaper.savefig('temp.png')\n",
    "report.add_image(image='temp.png', title='ERDS mu/alpha & beta', section='TF - ERDs Maps', tags='s'+str(subject))\n",
    "\n",
    "\n",
    "# Save Report\n",
    "report.save(rname + \".hdf5\", overwrite=True)\n",
    "report.save(rname + \".html\", overwrite=True)"
   ]
  }
 ],
 "metadata": {
  "kernelspec": {
   "display_name": "mne",
   "language": "python",
   "name": "python3"
  },
  "language_info": {
   "codemirror_mode": {
    "name": "ipython",
    "version": 3
   },
   "file_extension": ".py",
   "mimetype": "text/x-python",
   "name": "python",
   "nbconvert_exporter": "python",
   "pygments_lexer": "ipython3",
   "version": "3.12.1"
  }
 },
 "nbformat": 4,
 "nbformat_minor": 2
}
