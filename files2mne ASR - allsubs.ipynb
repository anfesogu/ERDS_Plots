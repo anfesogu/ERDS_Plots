{
 "cells": [
  {
   "cell_type": "code",
   "execution_count": 1,
   "metadata": {},
   "outputs": [],
   "source": [
    "import mne\n",
    "import numpy as np\n",
    "import matplotlib.pyplot as plt\n",
    "import asrpy\n",
    "\n",
    "from utils_dataset2mne import data2mne\n",
    "from utils_dataset2mne import create_name\n",
    "from utils_dataset2mne import apply_ASR\n",
    "from utils_dataset2mne import plot_TF_M\n",
    "from utils_dataset2mne import plot_TF_M_stat\n",
    "from utils_dataset2mne import plot_ERDs\n",
    "\n",
    "mne.set_log_level(verbose='WARNING')\n",
    "\n",
    "%matplotlib qt"
   ]
  },
  {
   "cell_type": "markdown",
   "metadata": {},
   "source": [
    "#### Processing all subjects"
   ]
  },
  {
   "cell_type": "code",
   "execution_count": 2,
   "metadata": {},
   "outputs": [
    {
     "name": "stderr",
     "output_type": "stream",
     "text": [
      "C:\\Users\\andresfs\\AppData\\Local\\Temp\\ipykernel_18428\\1605015391.py:20: RuntimeWarning: This filename (c:\\Users\\andresfs\\Downloads\\Dataset MI - GigaScience\\Derivates\\s27_ASR.fif) does not conform to MNE naming conventions. All raw files should end with raw.fif, raw_sss.fif, raw_tsss.fif, _meg.fif, _eeg.fif, _ieeg.fif, raw.fif.gz, raw_sss.fif.gz, raw_tsss.fif.gz, _meg.fif.gz, _eeg.fif.gz or _ieeg.fif.gz\n",
      "  cleaned.save(fname_ASR)\n"
     ]
    },
    {
     "name": "stdout",
     "output_type": "stream",
     "text": [
      "Subject: 27 - succesfull processing\n"
     ]
    },
    {
     "name": "stderr",
     "output_type": "stream",
     "text": [
      "C:\\Users\\andresfs\\AppData\\Local\\Temp\\ipykernel_18428\\1605015391.py:20: RuntimeWarning: This filename (c:\\Users\\andresfs\\Downloads\\Dataset MI - GigaScience\\Derivates\\s28_ASR.fif) does not conform to MNE naming conventions. All raw files should end with raw.fif, raw_sss.fif, raw_tsss.fif, _meg.fif, _eeg.fif, _ieeg.fif, raw.fif.gz, raw_sss.fif.gz, raw_tsss.fif.gz, _meg.fif.gz, _eeg.fif.gz or _ieeg.fif.gz\n",
      "  cleaned.save(fname_ASR)\n"
     ]
    },
    {
     "name": "stdout",
     "output_type": "stream",
     "text": [
      "Subject: 28 - succesfull processing\n"
     ]
    },
    {
     "name": "stderr",
     "output_type": "stream",
     "text": [
      "C:\\Users\\andresfs\\AppData\\Local\\Temp\\ipykernel_18428\\1605015391.py:20: RuntimeWarning: This filename (c:\\Users\\andresfs\\Downloads\\Dataset MI - GigaScience\\Derivates\\s29_ASR.fif) does not conform to MNE naming conventions. All raw files should end with raw.fif, raw_sss.fif, raw_tsss.fif, _meg.fif, _eeg.fif, _ieeg.fif, raw.fif.gz, raw_sss.fif.gz, raw_tsss.fif.gz, _meg.fif.gz, _eeg.fif.gz or _ieeg.fif.gz\n",
      "  cleaned.save(fname_ASR)\n"
     ]
    },
    {
     "name": "stdout",
     "output_type": "stream",
     "text": [
      "Subject: 29 - succesfull processing\n"
     ]
    },
    {
     "name": "stderr",
     "output_type": "stream",
     "text": [
      "C:\\Users\\andresfs\\AppData\\Local\\Temp\\ipykernel_18428\\1605015391.py:20: RuntimeWarning: This filename (c:\\Users\\andresfs\\Downloads\\Dataset MI - GigaScience\\Derivates\\s30_ASR.fif) does not conform to MNE naming conventions. All raw files should end with raw.fif, raw_sss.fif, raw_tsss.fif, _meg.fif, _eeg.fif, _ieeg.fif, raw.fif.gz, raw_sss.fif.gz, raw_tsss.fif.gz, _meg.fif.gz, _eeg.fif.gz or _ieeg.fif.gz\n",
      "  cleaned.save(fname_ASR)\n"
     ]
    },
    {
     "name": "stdout",
     "output_type": "stream",
     "text": [
      "Subject: 30 - succesfull processing\n"
     ]
    },
    {
     "name": "stderr",
     "output_type": "stream",
     "text": [
      "C:\\Users\\andresfs\\AppData\\Local\\Temp\\ipykernel_18428\\1605015391.py:20: RuntimeWarning: This filename (c:\\Users\\andresfs\\Downloads\\Dataset MI - GigaScience\\Derivates\\s31_ASR.fif) does not conform to MNE naming conventions. All raw files should end with raw.fif, raw_sss.fif, raw_tsss.fif, _meg.fif, _eeg.fif, _ieeg.fif, raw.fif.gz, raw_sss.fif.gz, raw_tsss.fif.gz, _meg.fif.gz, _eeg.fif.gz or _ieeg.fif.gz\n",
      "  cleaned.save(fname_ASR)\n"
     ]
    },
    {
     "name": "stdout",
     "output_type": "stream",
     "text": [
      "Subject: 31 - succesfull processing\n"
     ]
    },
    {
     "name": "stderr",
     "output_type": "stream",
     "text": [
      "C:\\Users\\andresfs\\AppData\\Local\\Temp\\ipykernel_18428\\1605015391.py:20: RuntimeWarning: This filename (c:\\Users\\andresfs\\Downloads\\Dataset MI - GigaScience\\Derivates\\s32_ASR.fif) does not conform to MNE naming conventions. All raw files should end with raw.fif, raw_sss.fif, raw_tsss.fif, _meg.fif, _eeg.fif, _ieeg.fif, raw.fif.gz, raw_sss.fif.gz, raw_tsss.fif.gz, _meg.fif.gz, _eeg.fif.gz or _ieeg.fif.gz\n",
      "  cleaned.save(fname_ASR)\n"
     ]
    },
    {
     "name": "stdout",
     "output_type": "stream",
     "text": [
      "Subject: 32 - succesfull processing\n"
     ]
    },
    {
     "name": "stderr",
     "output_type": "stream",
     "text": [
      "C:\\Users\\andresfs\\AppData\\Local\\Temp\\ipykernel_18428\\1605015391.py:20: RuntimeWarning: This filename (c:\\Users\\andresfs\\Downloads\\Dataset MI - GigaScience\\Derivates\\s33_ASR.fif) does not conform to MNE naming conventions. All raw files should end with raw.fif, raw_sss.fif, raw_tsss.fif, _meg.fif, _eeg.fif, _ieeg.fif, raw.fif.gz, raw_sss.fif.gz, raw_tsss.fif.gz, _meg.fif.gz, _eeg.fif.gz or _ieeg.fif.gz\n",
      "  cleaned.save(fname_ASR)\n"
     ]
    },
    {
     "name": "stdout",
     "output_type": "stream",
     "text": [
      "Subject: 33 - succesfull processing\n"
     ]
    },
    {
     "name": "stderr",
     "output_type": "stream",
     "text": [
      "C:\\Users\\andresfs\\AppData\\Local\\Temp\\ipykernel_18428\\1605015391.py:20: RuntimeWarning: This filename (c:\\Users\\andresfs\\Downloads\\Dataset MI - GigaScience\\Derivates\\s34_ASR.fif) does not conform to MNE naming conventions. All raw files should end with raw.fif, raw_sss.fif, raw_tsss.fif, _meg.fif, _eeg.fif, _ieeg.fif, raw.fif.gz, raw_sss.fif.gz, raw_tsss.fif.gz, _meg.fif.gz, _eeg.fif.gz or _ieeg.fif.gz\n",
      "  cleaned.save(fname_ASR)\n"
     ]
    },
    {
     "name": "stdout",
     "output_type": "stream",
     "text": [
      "Subject: 34 - succesfull processing\n"
     ]
    },
    {
     "name": "stderr",
     "output_type": "stream",
     "text": [
      "C:\\Users\\andresfs\\AppData\\Local\\Temp\\ipykernel_18428\\1605015391.py:20: RuntimeWarning: This filename (c:\\Users\\andresfs\\Downloads\\Dataset MI - GigaScience\\Derivates\\s35_ASR.fif) does not conform to MNE naming conventions. All raw files should end with raw.fif, raw_sss.fif, raw_tsss.fif, _meg.fif, _eeg.fif, _ieeg.fif, raw.fif.gz, raw_sss.fif.gz, raw_tsss.fif.gz, _meg.fif.gz, _eeg.fif.gz or _ieeg.fif.gz\n",
      "  cleaned.save(fname_ASR)\n"
     ]
    },
    {
     "name": "stdout",
     "output_type": "stream",
     "text": [
      "Subject: 35 - succesfull processing\n"
     ]
    },
    {
     "name": "stderr",
     "output_type": "stream",
     "text": [
      "C:\\Users\\andresfs\\AppData\\Local\\Temp\\ipykernel_18428\\1605015391.py:20: RuntimeWarning: This filename (c:\\Users\\andresfs\\Downloads\\Dataset MI - GigaScience\\Derivates\\s36_ASR.fif) does not conform to MNE naming conventions. All raw files should end with raw.fif, raw_sss.fif, raw_tsss.fif, _meg.fif, _eeg.fif, _ieeg.fif, raw.fif.gz, raw_sss.fif.gz, raw_tsss.fif.gz, _meg.fif.gz, _eeg.fif.gz or _ieeg.fif.gz\n",
      "  cleaned.save(fname_ASR)\n"
     ]
    },
    {
     "name": "stdout",
     "output_type": "stream",
     "text": [
      "Subject: 36 - succesfull processing\n"
     ]
    },
    {
     "name": "stderr",
     "output_type": "stream",
     "text": [
      "C:\\Users\\andresfs\\AppData\\Local\\Temp\\ipykernel_18428\\1605015391.py:20: RuntimeWarning: This filename (c:\\Users\\andresfs\\Downloads\\Dataset MI - GigaScience\\Derivates\\s37_ASR.fif) does not conform to MNE naming conventions. All raw files should end with raw.fif, raw_sss.fif, raw_tsss.fif, _meg.fif, _eeg.fif, _ieeg.fif, raw.fif.gz, raw_sss.fif.gz, raw_tsss.fif.gz, _meg.fif.gz, _eeg.fif.gz or _ieeg.fif.gz\n",
      "  cleaned.save(fname_ASR)\n"
     ]
    },
    {
     "name": "stdout",
     "output_type": "stream",
     "text": [
      "Subject: 37 - succesfull processing\n"
     ]
    },
    {
     "name": "stderr",
     "output_type": "stream",
     "text": [
      "C:\\Users\\andresfs\\AppData\\Local\\Temp\\ipykernel_18428\\1605015391.py:20: RuntimeWarning: This filename (c:\\Users\\andresfs\\Downloads\\Dataset MI - GigaScience\\Derivates\\s38_ASR.fif) does not conform to MNE naming conventions. All raw files should end with raw.fif, raw_sss.fif, raw_tsss.fif, _meg.fif, _eeg.fif, _ieeg.fif, raw.fif.gz, raw_sss.fif.gz, raw_tsss.fif.gz, _meg.fif.gz, _eeg.fif.gz or _ieeg.fif.gz\n",
      "  cleaned.save(fname_ASR)\n"
     ]
    },
    {
     "name": "stdout",
     "output_type": "stream",
     "text": [
      "Subject: 38 - succesfull processing\n"
     ]
    },
    {
     "name": "stderr",
     "output_type": "stream",
     "text": [
      "C:\\Users\\andresfs\\AppData\\Local\\Temp\\ipykernel_18428\\1605015391.py:20: RuntimeWarning: This filename (c:\\Users\\andresfs\\Downloads\\Dataset MI - GigaScience\\Derivates\\s39_ASR.fif) does not conform to MNE naming conventions. All raw files should end with raw.fif, raw_sss.fif, raw_tsss.fif, _meg.fif, _eeg.fif, _ieeg.fif, raw.fif.gz, raw_sss.fif.gz, raw_tsss.fif.gz, _meg.fif.gz, _eeg.fif.gz or _ieeg.fif.gz\n",
      "  cleaned.save(fname_ASR)\n"
     ]
    },
    {
     "name": "stdout",
     "output_type": "stream",
     "text": [
      "Subject: 39 - succesfull processing\n"
     ]
    },
    {
     "name": "stderr",
     "output_type": "stream",
     "text": [
      "C:\\Users\\andresfs\\AppData\\Local\\Temp\\ipykernel_18428\\1605015391.py:20: RuntimeWarning: This filename (c:\\Users\\andresfs\\Downloads\\Dataset MI - GigaScience\\Derivates\\s40_ASR.fif) does not conform to MNE naming conventions. All raw files should end with raw.fif, raw_sss.fif, raw_tsss.fif, _meg.fif, _eeg.fif, _ieeg.fif, raw.fif.gz, raw_sss.fif.gz, raw_tsss.fif.gz, _meg.fif.gz, _eeg.fif.gz or _ieeg.fif.gz\n",
      "  cleaned.save(fname_ASR)\n"
     ]
    },
    {
     "name": "stdout",
     "output_type": "stream",
     "text": [
      "Subject: 40 - succesfull processing\n"
     ]
    },
    {
     "name": "stderr",
     "output_type": "stream",
     "text": [
      "C:\\Users\\andresfs\\AppData\\Local\\Temp\\ipykernel_18428\\1605015391.py:20: RuntimeWarning: This filename (c:\\Users\\andresfs\\Downloads\\Dataset MI - GigaScience\\Derivates\\s41_ASR.fif) does not conform to MNE naming conventions. All raw files should end with raw.fif, raw_sss.fif, raw_tsss.fif, _meg.fif, _eeg.fif, _ieeg.fif, raw.fif.gz, raw_sss.fif.gz, raw_tsss.fif.gz, _meg.fif.gz, _eeg.fif.gz or _ieeg.fif.gz\n",
      "  cleaned.save(fname_ASR)\n"
     ]
    },
    {
     "name": "stdout",
     "output_type": "stream",
     "text": [
      "Subject: 41 - succesfull processing\n"
     ]
    },
    {
     "name": "stderr",
     "output_type": "stream",
     "text": [
      "C:\\Users\\andresfs\\AppData\\Local\\Temp\\ipykernel_18428\\1605015391.py:20: RuntimeWarning: This filename (c:\\Users\\andresfs\\Downloads\\Dataset MI - GigaScience\\Derivates\\s42_ASR.fif) does not conform to MNE naming conventions. All raw files should end with raw.fif, raw_sss.fif, raw_tsss.fif, _meg.fif, _eeg.fif, _ieeg.fif, raw.fif.gz, raw_sss.fif.gz, raw_tsss.fif.gz, _meg.fif.gz, _eeg.fif.gz or _ieeg.fif.gz\n",
      "  cleaned.save(fname_ASR)\n"
     ]
    },
    {
     "name": "stdout",
     "output_type": "stream",
     "text": [
      "Subject: 42 - succesfull processing\n"
     ]
    },
    {
     "name": "stderr",
     "output_type": "stream",
     "text": [
      "C:\\Users\\andresfs\\AppData\\Local\\Temp\\ipykernel_18428\\1605015391.py:20: RuntimeWarning: This filename (c:\\Users\\andresfs\\Downloads\\Dataset MI - GigaScience\\Derivates\\s43_ASR.fif) does not conform to MNE naming conventions. All raw files should end with raw.fif, raw_sss.fif, raw_tsss.fif, _meg.fif, _eeg.fif, _ieeg.fif, raw.fif.gz, raw_sss.fif.gz, raw_tsss.fif.gz, _meg.fif.gz, _eeg.fif.gz or _ieeg.fif.gz\n",
      "  cleaned.save(fname_ASR)\n"
     ]
    },
    {
     "name": "stdout",
     "output_type": "stream",
     "text": [
      "Subject: 43 - succesfull processing\n"
     ]
    },
    {
     "name": "stderr",
     "output_type": "stream",
     "text": [
      "C:\\Users\\andresfs\\AppData\\Local\\Temp\\ipykernel_18428\\1605015391.py:20: RuntimeWarning: This filename (c:\\Users\\andresfs\\Downloads\\Dataset MI - GigaScience\\Derivates\\s44_ASR.fif) does not conform to MNE naming conventions. All raw files should end with raw.fif, raw_sss.fif, raw_tsss.fif, _meg.fif, _eeg.fif, _ieeg.fif, raw.fif.gz, raw_sss.fif.gz, raw_tsss.fif.gz, _meg.fif.gz, _eeg.fif.gz or _ieeg.fif.gz\n",
      "  cleaned.save(fname_ASR)\n"
     ]
    },
    {
     "name": "stdout",
     "output_type": "stream",
     "text": [
      "Subject: 44 - succesfull processing\n"
     ]
    },
    {
     "name": "stderr",
     "output_type": "stream",
     "text": [
      "C:\\Users\\andresfs\\AppData\\Local\\Temp\\ipykernel_18428\\1605015391.py:20: RuntimeWarning: This filename (c:\\Users\\andresfs\\Downloads\\Dataset MI - GigaScience\\Derivates\\s45_ASR.fif) does not conform to MNE naming conventions. All raw files should end with raw.fif, raw_sss.fif, raw_tsss.fif, _meg.fif, _eeg.fif, _ieeg.fif, raw.fif.gz, raw_sss.fif.gz, raw_tsss.fif.gz, _meg.fif.gz, _eeg.fif.gz or _ieeg.fif.gz\n",
      "  cleaned.save(fname_ASR)\n"
     ]
    },
    {
     "name": "stdout",
     "output_type": "stream",
     "text": [
      "Subject: 45 - succesfull processing\n"
     ]
    },
    {
     "name": "stderr",
     "output_type": "stream",
     "text": [
      "C:\\Users\\andresfs\\AppData\\Local\\Temp\\ipykernel_18428\\1605015391.py:20: RuntimeWarning: This filename (c:\\Users\\andresfs\\Downloads\\Dataset MI - GigaScience\\Derivates\\s46_ASR.fif) does not conform to MNE naming conventions. All raw files should end with raw.fif, raw_sss.fif, raw_tsss.fif, _meg.fif, _eeg.fif, _ieeg.fif, raw.fif.gz, raw_sss.fif.gz, raw_tsss.fif.gz, _meg.fif.gz, _eeg.fif.gz or _ieeg.fif.gz\n",
      "  cleaned.save(fname_ASR)\n"
     ]
    },
    {
     "name": "stdout",
     "output_type": "stream",
     "text": [
      "Subject: 46 - succesfull processing\n"
     ]
    },
    {
     "name": "stderr",
     "output_type": "stream",
     "text": [
      "C:\\Users\\andresfs\\AppData\\Local\\Temp\\ipykernel_18428\\1605015391.py:20: RuntimeWarning: This filename (c:\\Users\\andresfs\\Downloads\\Dataset MI - GigaScience\\Derivates\\s47_ASR.fif) does not conform to MNE naming conventions. All raw files should end with raw.fif, raw_sss.fif, raw_tsss.fif, _meg.fif, _eeg.fif, _ieeg.fif, raw.fif.gz, raw_sss.fif.gz, raw_tsss.fif.gz, _meg.fif.gz, _eeg.fif.gz or _ieeg.fif.gz\n",
      "  cleaned.save(fname_ASR)\n"
     ]
    },
    {
     "name": "stdout",
     "output_type": "stream",
     "text": [
      "Subject: 47 - succesfull processing\n"
     ]
    },
    {
     "name": "stderr",
     "output_type": "stream",
     "text": [
      "C:\\Users\\andresfs\\AppData\\Local\\Temp\\ipykernel_18428\\1605015391.py:20: RuntimeWarning: This filename (c:\\Users\\andresfs\\Downloads\\Dataset MI - GigaScience\\Derivates\\s48_ASR.fif) does not conform to MNE naming conventions. All raw files should end with raw.fif, raw_sss.fif, raw_tsss.fif, _meg.fif, _eeg.fif, _ieeg.fif, raw.fif.gz, raw_sss.fif.gz, raw_tsss.fif.gz, _meg.fif.gz, _eeg.fif.gz or _ieeg.fif.gz\n",
      "  cleaned.save(fname_ASR)\n"
     ]
    },
    {
     "name": "stdout",
     "output_type": "stream",
     "text": [
      "Subject: 48 - succesfull processing\n"
     ]
    },
    {
     "name": "stderr",
     "output_type": "stream",
     "text": [
      "C:\\Users\\andresfs\\AppData\\Local\\Temp\\ipykernel_18428\\1605015391.py:20: RuntimeWarning: This filename (c:\\Users\\andresfs\\Downloads\\Dataset MI - GigaScience\\Derivates\\s49_ASR.fif) does not conform to MNE naming conventions. All raw files should end with raw.fif, raw_sss.fif, raw_tsss.fif, _meg.fif, _eeg.fif, _ieeg.fif, raw.fif.gz, raw_sss.fif.gz, raw_tsss.fif.gz, _meg.fif.gz, _eeg.fif.gz or _ieeg.fif.gz\n",
      "  cleaned.save(fname_ASR)\n"
     ]
    },
    {
     "name": "stdout",
     "output_type": "stream",
     "text": [
      "Subject: 49 - succesfull processing\n"
     ]
    },
    {
     "name": "stderr",
     "output_type": "stream",
     "text": [
      "C:\\Users\\andresfs\\AppData\\Local\\Temp\\ipykernel_18428\\1605015391.py:20: RuntimeWarning: This filename (c:\\Users\\andresfs\\Downloads\\Dataset MI - GigaScience\\Derivates\\s50_ASR.fif) does not conform to MNE naming conventions. All raw files should end with raw.fif, raw_sss.fif, raw_tsss.fif, _meg.fif, _eeg.fif, _ieeg.fif, raw.fif.gz, raw_sss.fif.gz, raw_tsss.fif.gz, _meg.fif.gz, _eeg.fif.gz or _ieeg.fif.gz\n",
      "  cleaned.save(fname_ASR)\n"
     ]
    },
    {
     "name": "stdout",
     "output_type": "stream",
     "text": [
      "Subject: 50 - succesfull processing\n",
      "An error occurred: cannot reshape array of size 602112 into shape (148,4096)\n",
      "Subject: 51 - failed processing\n"
     ]
    },
    {
     "name": "stderr",
     "output_type": "stream",
     "text": [
      "C:\\Users\\andresfs\\AppData\\Local\\Temp\\ipykernel_18428\\1605015391.py:20: RuntimeWarning: This filename (c:\\Users\\andresfs\\Downloads\\Dataset MI - GigaScience\\Derivates\\s52_ASR.fif) does not conform to MNE naming conventions. All raw files should end with raw.fif, raw_sss.fif, raw_tsss.fif, _meg.fif, _eeg.fif, _ieeg.fif, raw.fif.gz, raw_sss.fif.gz, raw_tsss.fif.gz, _meg.fif.gz, _eeg.fif.gz or _ieeg.fif.gz\n",
      "  cleaned.save(fname_ASR)\n"
     ]
    },
    {
     "name": "stdout",
     "output_type": "stream",
     "text": [
      "Subject: 52 - succesfull processing\n"
     ]
    }
   ],
   "source": [
    "subjects = list(range(27, 53))\n",
    "\n",
    "for subject in subjects:\n",
    "\n",
    "    fname_mat = create_name(subject,'EEG_Data')\n",
    "\n",
    "    # Convert .mat data to a raw object of MNE-python\n",
    "    raw = data2mne(fname_mat, scale=1e-8)\n",
    "\n",
    "    # Change the custom montage to standard positions for better visualization\n",
    "    biosemi64_montage = mne.channels.make_standard_montage('biosemi64')\n",
    "    raw.set_montage(biosemi64_montage)\n",
    "    \n",
    "    try:\n",
    "        # Applying ASR to the raw data (no filtering before)\n",
    "        # tmin and tmax define the period to use for calibration\n",
    "        # the output is a raw object of MNE-python with the cleaned data\n",
    "        cleaned = apply_ASR(raw,tmin=51,tmax=115)\n",
    "        fname_ASR = create_name(subject,'Derivates',type='ASR')\n",
    "        cleaned.save(fname_ASR)\n",
    "        print(f\"Subject: {str(subject)} - succesfull processing\")\n",
    "    except Exception as e:\n",
    "        # Code to handle other exceptions\n",
    "        print(f\"An error occurred: {e}\")\n",
    "        print(f\"Subject: {str(subject)} - failed processing\")\n"
   ]
  }
 ],
 "metadata": {
  "kernelspec": {
   "display_name": "mytimeflux",
   "language": "python",
   "name": "python3"
  },
  "language_info": {
   "codemirror_mode": {
    "name": "ipython",
    "version": 3
   },
   "file_extension": ".py",
   "mimetype": "text/x-python",
   "name": "python",
   "nbconvert_exporter": "python",
   "pygments_lexer": "ipython3",
   "version": "3.10.6"
  }
 },
 "nbformat": 4,
 "nbformat_minor": 2
}
