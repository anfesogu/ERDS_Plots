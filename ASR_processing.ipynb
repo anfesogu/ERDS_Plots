{
 "cells": [
  {
   "cell_type": "markdown",
   "metadata": {},
   "source": [
    "##### This notebook shows how ASR is applied to the dataset and export the processed EEG as .fif\n",
    "\n",
    "###### It requires the .fif raw output from the \"read_raw_data\" notebook\n"
   ]
  },
  {
   "cell_type": "code",
   "execution_count": 6,
   "metadata": {},
   "outputs": [],
   "source": [
    "import mne \n",
    "import numpy as np\n",
    "import matplotlib.pyplot as plt\n",
    "\n",
    "from utils import create_name\n",
    "from utils import apply_ASR\n",
    "\n",
    "mne.set_log_level(verbose='WARNING')\n",
    "\n",
    "%matplotlib qt"
   ]
  },
  {
   "cell_type": "code",
   "execution_count": 7,
   "metadata": {},
   "outputs": [],
   "source": [
    "# Read the raw output from the \"read_raw_data\" notebook\n",
    "\n",
    "# Define the subject and the folder where the data is located\n",
    "subject = 41\n",
    "data_folder = r\"C:\\Users\\andresfs\\OneDrive - NTNU\\Datasets\\Dataset MI - GigaScience\\Derivates\"\n",
    "\n",
    "# Read the raw data\n",
    "fname_mat = create_name(subject,data_folder,type='raw')\n",
    "raw = mne.io.read_raw_fif(fname_mat,preload=True)                \n"
   ]
  },
  {
   "cell_type": "code",
   "execution_count": 8,
   "metadata": {},
   "outputs": [],
   "source": [
    "# Apply ASR over a short period\n",
    "## Be aware, applying ASR over the whole EEG subject data can take a long time (hours) and a lot of RAM memory\n",
    "## Usually ASR is applied over a short time window (e.g. 1 minute or less) here is an example over a short period\n",
    "\n",
    "# Filter one second \n",
    "raw_short = raw.copy().crop(120,180)\n",
    "raw_short = raw_short.load_data().copy().filter(0.5,None)\n",
    "\n",
    "# Fit ASR  the resting state\n",
    "asr = apply_ASR(raw,tmin=51,tmax=115,asr_fit=True) # tmin and tmax form the time window to fit the ASR, they correspond to resting state in the dataset\n",
    "\n",
    "# Transform the short segment\n",
    "cleaned_short = asr.transform(raw_short)\n",
    " \n"
   ]
  },
  {
   "cell_type": "code",
   "execution_count": 4,
   "metadata": {},
   "outputs": [],
   "source": [
    "# Apply ASR over the whole EEG data\n",
    "## Remeber it might take a long time and a lot of RAM memory\n",
    "cleaned = apply_ASR(raw,tmin=51,tmax=115)"
   ]
  },
  {
   "cell_type": "code",
   "execution_count": null,
   "metadata": {},
   "outputs": [],
   "source": [
    "# Export\n",
    "fname_ASR = create_name(subject, data_folder,type='ASR')\n",
    "cleaned.save(fname_ASR)"
   ]
  }
 ],
 "metadata": {
  "kernelspec": {
   "display_name": "mne",
   "language": "python",
   "name": "python3"
  },
  "language_info": {
   "codemirror_mode": {
    "name": "ipython",
    "version": 3
   },
   "file_extension": ".py",
   "mimetype": "text/x-python",
   "name": "python",
   "nbconvert_exporter": "python",
   "pygments_lexer": "ipython3",
   "version": "3.12.1"
  }
 },
 "nbformat": 4,
 "nbformat_minor": 2
}
